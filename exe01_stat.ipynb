{
 "cells": [
  {
   "cell_type": "markdown",
   "metadata": {},
   "source": [
    "***\n",
    "This notebook is inteded to explore the project data\n",
    "***"
   ]
  },
  {
   "cell_type": "markdown",
   "metadata": {},
   "source": [
    "# Big Data Project H600 / L-Group\n",
    "***\n",
    "## Real world Data Exploration, Integration, Cleasning, Transformation and Analysis\n",
    "\n",
    "Data:\n",
    "The New York City Taxi and Limousine Commission (or TLC for short) has been publishing\n",
    "records about taxi trips in New York since 2009. \n",
    "\n",
    "The TLC trip dataset actually consists of 4 sub-datasets:\n",
    "\n",
    "   1.Yellow taxi records are records that record trip information of New York's famous yellow taxi cars\n",
    "\n",
    "   2.Green taxi records are records that record trip information by so-called 'boro' taxis, a newer service introduced in August of 2013 to improve taxi service and availability in the boroughs. \n",
    "\n",
    "   3.FHV records (short for 'For Hire Vehicles') record information from services that offered for-hire vehicles (such as Uber, Lyft, Via, and Juno), but also luxury limousine bases.\n",
    "\n",
    "   4.High volume FHV (FHVHV for short) are FHV records offered by services that make more than 10,000 trips per day"
   ]
  },
  {
   "cell_type": "markdown",
   "metadata": {},
   "source": [
    "## 1: Files & Data Exploration \n",
    "### 1.1 Count of files per type"
   ]
  },
  {
   "cell_type": "code",
   "execution_count": 1,
   "metadata": {},
   "outputs": [
    {
     "name": "stdout",
     "output_type": "stream",
     "text": [
      "count of green tripdata files:\n",
      "76\n",
      "count of yellow tripdata files:\n",
      "131\n",
      "count of fhv tripdata files:\n",
      "64\n",
      "count of fhvhv tripdata files:\n",
      "10\n",
      "count of all tripdata files:\n",
      "281\n"
     ]
    }
   ],
   "source": [
    "print ('count of green tripdata files:')\n",
    "!find /home/bigdata/Desktop/Project/Data/green_tripdata_*.csv -type f | wc -l \n",
    "print ('count of yellow tripdata files:')\n",
    "!find /home/bigdata/Desktop/Project/Data/yellow_tripdata_*.csv -type f | wc -l\n",
    "print ('count of fhv tripdata files:')\n",
    "!find /home/bigdata/Desktop/Project/Data/fhv_tripdata_*.csv -type f | wc -l \n",
    "print ('count of fhvhv tripdata files:')\n",
    "!find /home/bigdata/Desktop/Project/Data/fhvhv_tripdata_*.csv -type f | wc -l\n",
    "print ('count of all tripdata files:')\n",
    "!find /home/bigdata/Desktop/Project/Data/*.csv -type f | wc -l "
   ]
  },
  {
   "cell_type": "markdown",
   "metadata": {},
   "source": [
    "### 1.2 Files size (bytes) and metrics"
   ]
  },
  {
   "cell_type": "code",
   "execution_count": 202,
   "metadata": {},
   "outputs": [
    {
     "name": "stdout",
     "output_type": "stream",
     "text": [
      "For the taxi brand called fhv there are 74 files.\n",
      "-min value           :  52060\n",
      "-max value           :  3339455\n",
      "-mean value          :  1263540.6621621621\n",
      "-25 percentile value :  239082.25\n",
      "-50 percentile value :  725289.0\n",
      "-75 percentile value :  2545631.75\n",
      "-90 percentile value :  3003289.6\n"
     ]
    }
   ],
   "source": [
    "import os\n",
    "import glob\n",
    "import pandas as pd\n",
    "import math\n",
    "import numpy as np\n",
    "\n",
    "\n",
    "os.chdir(\"/home/bigdata/Desktop/Project/Data/\")\n",
    "taxi_brand=\"fhv\"\n",
    "list_files = {}\n",
    "list_files[taxi_brand] = []\n",
    "nb_files = 0\n",
    "size_b = []\n",
    "# List the file from the same taxi company brand \n",
    "for file in glob.glob(\"%s*.csv\" %(taxi_brand)):\n",
    "    nb_files = nb_files+1\n",
    "    # Save in list the file name\n",
    "    list_files[taxi_brand].append(file)\n",
    "    size_b.append(os.path.getsize(file))\n",
    "\n",
    "print(\"For the taxi brand called %s there are %i files.\" %(taxi_brand, nb_files))\n",
    "# Get size basic stat\n",
    "print(\"Here are some metrics based on their size in bytes:\")\n",
    "print(\"-min value           : \", np.min(size_b))\n",
    "print(\"-max value           : \", np.max(size_b))\n",
    "print(\"-mean value          : \", np.mean(size_b))\n",
    "print(\"-25 percentile value : \", np.quantile(size_b, .25)) \n",
    "print(\"-50 percentile value : \", np.quantile(size_b, .50)) \n",
    "print(\"-75 percentile value : \", np.quantile(size_b, .75)) \n",
    "print(\"-90 percentile value : \", np.quantile(size_b, .90)) \n"
   ]
  },
  {
   "cell_type": "markdown",
   "metadata": {},
   "source": [
    "### 1.3 Files size (rows) and metrics"
   ]
  },
  {
   "cell_type": "code",
   "execution_count": 206,
   "metadata": {},
   "outputs": [
    {
     "name": "stdout",
     "output_type": "stream",
     "text": [
      "For the taxi brand called fhv there are still 74 files.\n",
      "Here are some metrics based on their size in rows count:\n",
      "-min value           :  960\n",
      "-max value           :  47704\n",
      "-mean value          :  23128.391891891893\n",
      "-25 percentile value :  7975.25\n",
      "-50 percentile value :  22391.5\n",
      "-75 percentile value :  39336.5\n",
      "-90 percentile value :  44120.3\n"
     ]
    }
   ],
   "source": [
    "names={}\n",
    "size_r=[]\n",
    "\n",
    "for fn in glob.glob(\"%s*.csv\" %(taxi_brand)):\n",
    "    with open(fn) as f:\n",
    "        names[fn]=sum(1 for line in f if line.strip())     \n",
    "        \n",
    "    # Save in list files sizes in rows\n",
    "    size_r=list(names.values())\n",
    "\n",
    "print(\"For the taxi brand called %s there are still %i files.\" %(taxi_brand, nb_files))\n",
    "# Get size basic stat\n",
    "print(\"Here are some metrics based on their size in rows count:\")\n",
    "print(\"-min value           : \", np.min(size_r))\n",
    "print(\"-max value           : \", np.max(size_r))\n",
    "print(\"-mean value          : \", np.mean(size_r))\n",
    "print(\"-25 percentile value : \", np.quantile(size_r, .25)) \n",
    "print(\"-50 percentile value : \", np.quantile(size_r, .50)) \n",
    "print(\"-75 percentile value : \", np.quantile(size_r, .75)) \n",
    "print(\"-90 percentile value : \", np.quantile(size_r, .90)) "
   ]
  }
 ],
 "metadata": {
  "kernelspec": {
   "display_name": "Python 3",
   "language": "python",
   "name": "python3"
  },
  "language_info": {
   "codemirror_mode": {
    "name": "ipython",
    "version": 3
   },
   "file_extension": ".py",
   "mimetype": "text/x-python",
   "name": "python",
   "nbconvert_exporter": "python",
   "pygments_lexer": "ipython3",
   "version": "3.7.4"
  }
 },
 "nbformat": 4,
 "nbformat_minor": 2
}
