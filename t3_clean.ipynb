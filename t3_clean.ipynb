{
 "cells": [
  {
   "cell_type": "markdown",
   "metadata": {},
   "source": [
    "# Data cleaning"
   ]
  },
  {
   "cell_type": "code",
   "execution_count": null,
   "metadata": {},
   "outputs": [],
   "source": [
    "# Imports go here"
   ]
  },
  {
   "cell_type": "markdown",
   "metadata": {},
   "source": []
  },
  {
   "cell_type": "markdown",
   "metadata": {},
   "source": [
    "## Auxiliary functions"
   ]
  },
  {
   "cell_type": "code",
   "execution_count": 1,
   "metadata": {},
   "outputs": [],
   "source": [
    "# Auxiliary code to help in the data cleaning process goes here"
   ]
  },
  {
   "cell_type": "markdown",
   "metadata": {},
   "source": [
    "## 1. Cleaning the FHV dataset"
   ]
  },
  {
   "cell_type": "markdown",
   "metadata": {},
   "source": [
    "### Analysis of valid values"
   ]
  },
  {
   "cell_type": "markdown",
   "metadata": {},
   "source": [
    "|Column Value|Description|Data Type|Constraints|\n",
    "|---\t|---\t|---\t|---\t|\n",
    "|Dispatching_base_num|License Number of the base that dispatched the trip|String|Not Null|\n",
    "|Pickup_datetime|The date and time of the trip pick-up|Datetime|Not Null|\n",
    "|DropOff_datetime|The date and time of the trip dropoff|Datetime|Not Null|\n",
    "|PULocationID|Zone in which the trip began|Integer(smallint)|Not Null|\n",
    "|DOLocationID|Zone in which the trip ended|Integer(smallint)|Not Null|\n",
    "|SR_Flag|Indicates if the trip was a part of a shared ride chain offered by a High Volume FHV company (e.g. Uber Pool, Lyft Line); share=1, nonshared=0|Boolean|Not Null| "
   ]
  },
  {
   "cell_type": "markdown",
   "metadata": {},
   "source": [
    "### Validity rules"
   ]
  },
  {
   "cell_type": "code",
   "execution_count": null,
   "metadata": {},
   "outputs": [],
   "source": []
  },
  {
   "cell_type": "markdown",
   "metadata": {},
   "source": [
    "### Identifying dirty records, data repairing"
   ]
  },
  {
   "cell_type": "code",
   "execution_count": null,
   "metadata": {},
   "outputs": [],
   "source": []
  },
  {
   "cell_type": "markdown",
   "metadata": {},
   "source": [
    "## 2. Cleaning the FHVHV dataset"
   ]
  },
  {
   "cell_type": "markdown",
   "metadata": {},
   "source": [
    "### Analysis of valid values"
   ]
  },
  {
   "cell_type": "markdown",
   "metadata": {},
   "source": [
    "|Column Value|Description|Data Type|Constraints|\n",
    "|---\t|---\t|---\t|---\t|\n",
    "|Hvfhs_license_num|TLC license number of the HVFHS base or business|String|Not Null|\n",
    "|Dispatching_base_num|License Number of the base that dispatched the trip|String|Not Null|\n",
    "|Pickup_datetime|The date and time of the trip pick-up|Datetime|Not Null|\n",
    "|DropOff_datetime|The date and time of the trip dropoff|Datetime|Not Null|\n",
    "|PULocationID|Zone in which the trip began|Integer(smallint)|Not Null|\n",
    "|DOLocationID|Zone in which the trip ended|Integer(smallint)|Not Null|\n",
    "|SR_Flag|Indicates if the trip was a part of a shared ride chain offered by a High Volume FHV company (e.g. Uber Pool, Lyft Line); share=1, nonshared=0|Boolean|Not Null| \n",
    "\n",
    "\n",
    "*Hvfhs_license_num possible values:\n",
    "• HV0002: Juno\n",
    "• HV0003: Uber\n",
    "• HV0004: Via\n",
    "• HV0005: Lyft"
   ]
  },
  {
   "cell_type": "markdown",
   "metadata": {},
   "source": [
    "### Validity rules"
   ]
  },
  {
   "cell_type": "code",
   "execution_count": null,
   "metadata": {},
   "outputs": [],
   "source": []
  },
  {
   "cell_type": "markdown",
   "metadata": {},
   "source": [
    "### Identifying dirty records, data repairing"
   ]
  },
  {
   "cell_type": "code",
   "execution_count": null,
   "metadata": {},
   "outputs": [],
   "source": []
  },
  {
   "cell_type": "markdown",
   "metadata": {},
   "source": [
    "## 3. Cleaning the GREEN dataset"
   ]
  },
  {
   "cell_type": "markdown",
   "metadata": {},
   "source": [
    "### Analysis of valid values"
   ]
  },
  {
   "cell_type": "markdown",
   "metadata": {},
   "source": [
    "|Column Value|Description|Data Type|Constraints|\n",
    "|---\t|---\t|---\t|---\t|\n",
    "|VendorID|A code indicating the LPEP provider that provided the record.|Integer(tinyint)|1 or 2, Not Null|\n",
    "|lpep_pickup_datetime|The date and time when the meter was engaged|Datetime|Not Null|\n",
    "|lpep_dropoff_datetime|The date and time when the meter was disengaged|Datetime|Not Null|\n",
    "|Passenger_count|The number of passengers in the vehicle|Integer(tinyint)|???|\n",
    "|Trip_distance|The elapsed trip distance in miles reported by the taximeter|Decimal|   \t|\n",
    "|PULocationID|Zone in which the taximeter was engaged|Integer(smallint)|Not Null|\n",
    "|DOLocationID|Zone in which the taximeter was disengaged|Integer(smallint)|Not Null|\n",
    "|RateCodeID|The final rate code in effect at the end of the trip|Integer(tinyint)|1 to 6, Not Null|\n",
    "|Store_and_fwd_flag|This flag indicates whether the trip record was held in vehicle memory before sending to the vendor, aka “store and forward,”because the vehicle did not have a connection to the server|Boolean|Y or N, Not Null|\n",
    "|Payment_type|A numeric code signifying how the passenger paid for the trip|Integer(tinyint)|1 to 6, Not Null|\n",
    "|Fare_amount|The time-and-distance fare calculated by the meter|Decimal|Not Null|\n",
    "|Extra|Miscellaneous extras and surcharges|Decimal|   \t|\n",
    "|MTA_tax|0.50 MTA tax that is automatically triggered based on the metered rate in use|Decimal|   \t|\n",
    "|Improvement_surcharge|0.30 improvement surcharge assessed on hailed trips at the flag drop|Decimal|   \t|\n",
    "|Tip_amount|Tip amount – This field is automatically populated for credit card tips. Cash tips are not included|Decimal|   \t|\n",
    "|Tolls_amount|Total amount of all tolls paid in trip|Decimal|   \t|\n",
    "|Total_amount|The total amount charged to passengers|Decimal|   \t|\n",
    "|Trip_type|A code indicating whether the trip was a street-hail or a dispatch that is automatically assigned based on the metered rate in use but can be altered by the driver|Boolean|1 or 2, Not Null|"
   ]
  },
  {
   "cell_type": "markdown",
   "metadata": {},
   "source": [
    "### Validity rules"
   ]
  },
  {
   "cell_type": "code",
   "execution_count": null,
   "metadata": {},
   "outputs": [],
   "source": []
  },
  {
   "cell_type": "markdown",
   "metadata": {},
   "source": [
    "### Identifying dirty records, data repairing"
   ]
  },
  {
   "cell_type": "code",
   "execution_count": null,
   "metadata": {},
   "outputs": [],
   "source": []
  },
  {
   "cell_type": "markdown",
   "metadata": {},
   "source": [
    "## 4. Cleaning the YELLOW dataset"
   ]
  },
  {
   "cell_type": "markdown",
   "metadata": {},
   "source": [
    "### Analysis of valid values"
   ]
  },
  {
   "cell_type": "code",
   "execution_count": null,
   "metadata": {},
   "outputs": [],
   "source": []
  },
  {
   "cell_type": "markdown",
   "metadata": {},
   "source": [
    "### Validity rules"
   ]
  },
  {
   "cell_type": "code",
   "execution_count": null,
   "metadata": {},
   "outputs": [],
   "source": []
  },
  {
   "cell_type": "markdown",
   "metadata": {},
   "source": [
    "### Identifying dirty records, data repairing"
   ]
  },
  {
   "cell_type": "code",
   "execution_count": null,
   "metadata": {},
   "outputs": [],
   "source": []
  }
 ],
 "metadata": {
  "kernelspec": {
   "display_name": "Python 3",
   "language": "python",
   "name": "python3"
  },
  "language_info": {
   "codemirror_mode": {
    "name": "ipython",
    "version": 3
   },
   "file_extension": ".py",
   "mimetype": "text/x-python",
   "name": "python",
   "nbconvert_exporter": "python",
   "pygments_lexer": "ipython3",
   "version": "3.7.4"
  }
 },
 "nbformat": 4,
 "nbformat_minor": 2
}
