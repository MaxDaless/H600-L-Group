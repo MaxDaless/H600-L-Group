{
 "cells": [
  {
   "cell_type": "markdown",
   "metadata": {},
   "source": [
    "# Analysis\n",
    "\n",
    "For each query specified in the assignment, compute the answers. Include a plot of\n",
    "these results in this notebook. Briefly discuss what you can observe from these results. Beware that for some queries, not all of the sub-dataset types have the information required to answer the query. In that case, please ignore those sub-datasets"
   ]
  },
  {
   "cell_type": "code",
   "execution_count": 5,
   "metadata": {},
   "outputs": [
    {
     "name": "stdout",
     "output_type": "stream",
     "text": [
      "Spark application already started. Terminating existing application and starting new one\n"
     ]
    }
   ],
   "source": [
    "# Imports go here\n",
    "import os\n",
    "import glob\n",
    "import pandas as pd\n",
    "import os \n",
    "import shutil\n",
    "import datetime\n",
    "import geopandas as gpd\n",
    "from datetime import date\n",
    "from datetime import datetime\n",
    "from pyspark.sql.functions import col, lit\n",
    "import pyspark.sql.functions as f\n",
    "from pyspark.sql.functions import hour, mean\n",
    "from shutil import copyfile\n",
    "from shapely.geometry import Point\n",
    "import matplotlib.pyplot as plt\n",
    "\n",
    "os.environ['PYSPARK_SUBMIT_ARGS'] =\"--conf spark.driver.memory=3g  pyspark-shell\"\n",
    "from pyspark.sql import SparkSession\n",
    "try: \n",
    "    spark\n",
    "    print(\"Spark application already started. Terminating existing application and starting new one\")\n",
    "    spark.stop()\n",
    "except: \n",
    "    pass\n",
    "# Create a new spark session (note, the * indicates to use all available CPU cores)\n",
    "spark = SparkSession \\\n",
    "    .builder \\\n",
    "    .master(\"local[*]\") \\\n",
    "    .appName(\"H600 L-Group\") \\\n",
    "    .getOrCreate()\n",
    "#When dealing with RDDs, we work the sparkContext object. See https://spark.apache.org/docs/latest/api/python/pyspark.html#pyspark.SparkContext\n",
    "sc=spark.sparkContext\n",
    "#in local mode, you will be able to access the Spark GUI at http://localhost:4040"
   ]
  },
  {
   "cell_type": "markdown",
   "metadata": {},
   "source": [
    "## Declaration of usefull functions and parameters"
   ]
  },
  {
   "cell_type": "code",
   "execution_count": 6,
   "metadata": {},
   "outputs": [],
   "source": [
    "## FUNCTION DECLARATION\n",
    "# Creation of a function to convert lat-lon into location ID\n",
    "def convertlocID(lon, lat):\n",
    "    \"\"\"\n",
    "    This function define the location ID from the latitude and longitude coordinates.\n",
    "    It assumes that the files taxis_zones.shp is already loaded and converted unsing the epsg 4326 projection.\n",
    "    \n",
    "    Input: the latitude and longitude.      \n",
    "    Output: the locationID deduce from GPS positions.\n",
    "    \"\"\"  \n",
    "    global locationID # access the outer scope variable by declaring it global\n",
    "    if lon != None and lat != None and lon < -73.0 and lon > -75.0 and lat > 40.0 and lat < 42.0:\n",
    "        query_point = Point( lon, lat)\n",
    "        possible_matches = list(rtree.intersection( query_point.bounds ))\n",
    "        for i in range(0,len(possible_matches)) :\n",
    "            if zones.iloc[possible_matches[i]].geometry.contains(query_point) == True :\n",
    "                locationID = possible_matches[i]\n",
    "    else:\n",
    "        locationID = 9999\n",
    "    \n",
    "    return locationID\n",
    "\n",
    "# Check if the value is null or not\n",
    "def blank_as_null(x):\n",
    "    \"\"\"\n",
    "    This function define blank as null in order to be more easily interpreted.\n",
    "    \n",
    "    Input: the column name that need to be check      \n",
    "    Output: the column corrected\n",
    "    \"\"\"  \n",
    "    return f.when(col(x).isNull(), 0 ).otherwise(col(x))\n",
    "\n",
    "def create_files_list(path, brand, list_files):\n",
    "    \"\"\"\n",
    "    This function create the files list of specify taxi brand (brand) from the specify folder (path). \n",
    "    \n",
    "    Input: the path where are the files -> /data/cleaned or data/sampled\n",
    "           the name of the taxi company -> fhv, fhvfh, green, yellow\n",
    "           the empty file name list in which each file will be append\n",
    "    Output: number of files in the list and the list of files name.\n",
    "    \"\"\"  \n",
    "    global nb_files\n",
    "    nb_files = 0\n",
    "    for file in glob.glob(\"%s/%s_*.csv\" %(path,brand)):\n",
    "        nb_files = nb_files+1\n",
    "        # Save in list the files name\n",
    "        list_files.append(file)\n",
    "        # Order by date the file list\n",
    "        list_files.sort()\n",
    "\n",
    "    return list_files, nb_files\n",
    "\n",
    "## PARAMETERS DECLARATION\n",
    "cl_path = \"data/cleaned/\""
   ]
  },
  {
   "cell_type": "markdown",
   "metadata": {},
   "source": [
    "## Taxis companies popularity\n",
    "\n",
    "How the popularity of a particular service (Yellow Taxi, Green Taxi, FHV, FHVHV) is evolving over time? "
   ]
  },
  {
   "cell_type": "code",
   "execution_count": 156,
   "metadata": {},
   "outputs": [
    {
     "name": "stdout",
     "output_type": "stream",
     "text": [
      "[2009, 2013, 2014, 2015, 2016, 2017, 2018, 2019, 2020]\n",
      "[[1], [8, 9, 10, 11, 12], [1, 2, 3, 4, 5, 6, 7, 8, 9, 10, 11, 12], [1, 2, 3, 4, 5, 6, 7, 8, 9, 10, 11, 12], [1, 2, 3, 4, 5, 6, 7, 8, 9, 10, 11, 12], [1, 2, 3, 4, 5, 6, 7, 8, 9, 10, 11, 12], [1, 2, 3, 4, 5, 6, 7, 8, 9, 10, 11, 12], [1, 2, 3, 4, 5, 6], [1, 2, 4, 5, 6]]\n"
     ]
    }
   ],
   "source": [
    "\n",
    "# Get the list of the file for each taxi\n",
    "green_DF = (spark.read\n",
    "                .option(\"sep\", \",\")\n",
    "                .option(\"header\", True)\n",
    "                .option(\"inferSchema\", True)\n",
    "                .csv(cl_path+\"green/*.csv\") )\n",
    "\n",
    "# Get the date of each lines\n",
    "green_DF = green_DF.orderBy(\"lpep_pickup_datetime\")\n",
    "year_extract = green_DF.selectExpr(\"year(lpep_pickup_datetime) AS year\", \"lpep_pickup_datetime\").groupBy(\"year\").sum().orderBy(\"year\").select(\"year\")\n",
    "list_year = [row[0] for row in year_extract.select('year').collect()]\n",
    "var = []\n",
    "month_list = []\n",
    "print(list_year)\n",
    "for yr in list_year :\n",
    "    test = green_DF.where(f.year(\"lpep_pickup_datetime\")==yr)\\\n",
    "                    .selectExpr(\"month(lpep_pickup_datetime) AS month\", \"lpep_pickup_datetime\")\\\n",
    "                    .groupBy(\"month\").sum().orderBy(\"month\")\n",
    "    #testing = test.select(\"month\").toPandas()[\"month\"]\n",
    "    #months =  [row[0] for row in test.select('month').collect()]\n",
    "    #print(testing)\n",
    "    var.append([row[0] for row in test.select('sum(month)').collect()]) #test.select(\"sum(month)\").collect())\n",
    "    month_list.append([row[0] for row in test.select('month').collect()])\n",
    "    #date_format(df['date_key'],'yyyy-MM')\n",
    "print(month_list)\n",
    "    #plt.plot(var[0])    \n",
    "    #groupBy(\"month\").count()\n",
    "#green_DF.selectExpr(\"year(lpep_pickup_datetime) AS year\", \"lpep_pickup_datetime\").groupBy(\"month\").sum().show()\n",
    "# groupe the date by month\n",
    "# sum the numbers of travel in a month\n"
   ]
  },
  {
   "cell_type": "code",
   "execution_count": 162,
   "metadata": {},
   "outputs": [
    {
     "name": "stdout",
     "output_type": "stream",
     "text": [
      "['2009/1/1', '2013/8/1', '2013/9/1', '2013/10/1', '2013/11/1', '2013/12/1', '2014/1/1', '2014/2/1', '2014/3/1', '2014/4/1', '2014/5/1', '2014/6/1', '2014/7/1', '2014/8/1', '2014/9/1', '2014/10/1', '2014/11/1', '2014/12/1', '2015/1/1', '2015/2/1', '2015/3/1', '2015/4/1', '2015/5/1', '2015/6/1', '2015/7/1', '2015/8/1', '2015/9/1', '2015/10/1', '2015/11/1', '2015/12/1', '2016/1/1', '2016/2/1', '2016/3/1', '2016/4/1', '2016/5/1', '2016/6/1', '2016/7/1', '2016/8/1', '2016/9/1', '2016/10/1', '2016/11/1', '2016/12/1', '2017/1/1', '2017/2/1', '2017/3/1', '2017/4/1', '2017/5/1', '2017/6/1', '2017/7/1', '2017/8/1', '2017/9/1', '2017/10/1', '2017/11/1', '2017/12/1', '2018/1/1', '2018/2/1', '2018/3/1', '2018/4/1', '2018/5/1', '2018/6/1', '2018/7/1', '2018/8/1', '2018/9/1', '2018/10/1', '2018/11/1', '2018/12/1', '2019/1/1', '2019/2/1', '2019/3/1', '2019/4/1', '2019/5/1', '2019/6/1', '2020/1/1', '2020/2/1', '2020/4/1', '2020/5/1', '2020/6/1']\n",
      "[1, 120, 882, 3380, 8316, 14268, 1586, 3974, 7704, 10384, 14110, 15930, 17696, 21360, 24318, 29590, 33770, 39144, 2992, 6248, 10254, 13204, 17730, 19500, 21406, 24312, 26712, 32340, 33407, 38280, 2870, 5994, 9384, 12252, 15245, 16740, 18571, 19864, 20808, 24910, 25135, 29256, 2132, 4070, 6909, 8616, 10550, 11658, 12740, 13808, 15795, 18420, 19140, 21636, 1581, 3070, 4995, 6380, 7935, 8862, 9569, 10640, 11979, 14190, 14421, 16440, 1258, 2294, 3585, 4096, 5015, 5610, 895, 1594, 284, 570, 756]\n"
     ]
    },
    {
     "data": {
      "text/plain": [
       "[<matplotlib.lines.Line2D at 0x7f0408638b10>]"
      ]
     },
     "execution_count": 162,
     "metadata": {},
     "output_type": "execute_result"
    },
    {
     "data": {
      "image/png": "[encoded data removed]",
      "text/plain": [
       "<Figure size 432x288 with 1 Axes>"
      ]
     },
     "metadata": {
      "needs_background": "light"
     },
     "output_type": "display_data"
    }
   ],
   "source": [
    "time = [] \n",
    "summing = []\n",
    "for y in range(0,len(month_list)) :\n",
    "    for m in range(len(month_list[y])) :\n",
    "        timing = str(list_year[y])+\"/\"+str(month_list[y][m])+\"/1\"\n",
    "        time.append(timing) \n",
    "        summing.append(var[y][m])\n",
    "\n",
    "print(time)\n",
    "dating = pd.to_datetime(time, infer_datetime_format=True)\n",
    "\n",
    "print(summing)\n",
    "plt.plot(dating,summing)\n"
   ]
  },
  {
   "cell_type": "code",
   "execution_count": null,
   "metadata": {},
   "outputs": [],
   "source": []
  }
 ],
 "metadata": {
  "kernelspec": {
   "display_name": "Python 3",
   "language": "python",
   "name": "python3"
  },
  "language_info": {
   "codemirror_mode": {
    "name": "ipython",
    "version": 3
   },
   "file_extension": ".py",
   "mimetype": "text/x-python",
   "name": "python",
   "nbconvert_exporter": "python",
   "pygments_lexer": "ipython3",
   "version": "3.7.4"
  }
 },
 "nbformat": 4,
 "nbformat_minor": 2
}
