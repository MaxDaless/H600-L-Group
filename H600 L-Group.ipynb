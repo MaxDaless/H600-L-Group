{
 "cells": [
  {
   "cell_type": "markdown",
   "metadata": {},
   "source": [
    "# Big Data Project H600 / L-Group : real world data exploration, integration, cleaning, transformation and analysis.\n",
    "\n",
    "## 1- Files & Data Exploration\n",
    "\n",
    " **WARNING: this notebook assumes that:**\n",
    "    - The data are in \"MY_PARENT_FOLDER/data/sampled/\" folder. You can run the bash script \"download_metadata.sh\" to download data and metadata in the correct folders to execute the jupyter notebooks.\n",
    "    - The data are sampled to be run on a personnal computer.\n",
    "    \n",
    "### 1.1- Short descriptions of the Data:\n",
    "The New York City Taxi and Limousine Commission (or TLC for short) has been publishing records about taxi trips in New York since 2009. The TLC trip dataset actually consists of 4 sub-datasets:\n",
    "\n",
    "    1. Yellow taxi records are records that record trip information of New York's famous yellow taxi cars.\n",
    "    2. Green taxi records are records that record trip information by so-called 'boro' taxis, a newer service introduced in August of 2013 to improve taxi service and availability in the boroughs. \n",
    "    3. FHV records (short for 'For Hire Vehicles') record information from services that offered for-hire vehicles (such as Uber, Lyft, Via, and Juno), but also luxury limousine bases.\n",
    "    4. High volume FHV (FHVHV for short) are FHV records offered by services that make more than 10,000 trips per day."
   ]
  },
  {
   "cell_type": "markdown",
   "metadata": {},
   "source": [
    "### 1.2- Check folder and data configuration\n",
    "\n",
    "Run the bash script in order to check if the folder and the data are well configured.\n",
    "If you get an error, please follow the instructions or run the script download_metadata.sh."
   ]
  },
  {
   "cell_type": "code",
   "execution_count": 1,
   "metadata": {},
   "outputs": [
    {
     "name": "stdout",
     "output_type": "stream",
     "text": [
      "------------ READY TO START -----------\r\n"
     ]
    }
   ],
   "source": [
    "# Check if the files and forlder are on the good folder to exectue the following code.\n",
    "!./check_files.sh\n"
   ]
  },
  {
   "cell_type": "markdown",
   "metadata": {},
   "source": [
    "### 1.3- Count of files per type"
   ]
  },
  {
   "cell_type": "code",
   "execution_count": 1,
   "metadata": {},
   "outputs": [
    {
     "name": "stdout",
     "output_type": "stream",
     "text": [
      "count of green tripdata files:\n",
      "76\n",
      "count of yellow tripdata files:\n",
      "131\n",
      "count of fhv tripdata files:\n",
      "64\n",
      "count of fhvhv tripdata files:\n",
      "10\n",
      "count of all tripdata files:\n",
      "281\n"
     ]
    }
   ],
   "source": [
    "print ('count of green tripdata files:')\n",
    "!find data/sampled/green_tripdata_*.csv -type f | wc -l \n",
    "print ('count of yellow tripdata files:')\n",
    "!find data/sampled/yellow_tripdata_*.csv -type f | wc -l\n",
    "print ('count of fhv tripdata files:')\n",
    "!find data/sampled/fhv_tripdata_*.csv -type f | wc -l \n",
    "print ('count of fhvhv tripdata files:')\n",
    "!find data/sampled/fhvhv_tripdata_*.csv -type f | wc -l\n",
    "print ('count of all tripdata files:')\n",
    "!find data/sampled/*.csv -type f | wc -l"
   ]
  },
  {
   "cell_type": "markdown",
   "metadata": {},
   "source": [
    "### 1.4- Files size and metrics : bytes"
   ]
  },
  {
   "cell_type": "code",
   "execution_count": 1,
   "metadata": {},
   "outputs": [
    {
     "name": "stdout",
     "output_type": "stream",
     "text": [
      "For the taxi brand called yellow there are 131 files.\n",
      "     Here are some metrics based on their size in bytes:\n",
      "       -min value           :  43103\n",
      "       -max value           :  5959352\n",
      "       -mean value          :  3750759.69\n",
      "       -25 percentile value :  1756967.0\n",
      "       -50 percentile value :  4442047.0\n",
      "       -75 percentile value :  5123591.5\n",
      "       -90 percentile value :  5491438.0\n",
      "       -total file sum size :  491349519\n",
      "For the taxi brand called green there are 76 files.\n",
      "     Here are some metrics based on their size in bytes:\n",
      "       -min value           :  2512\n",
      "       -max value           :  570765\n",
      "       -mean value          :  262437.29\n",
      "       -25 percentile value :  121494.75\n",
      "       -50 percentile value :  190194.5\n",
      "       -75 percentile value :  456955.0\n",
      "       -90 percentile value :  499751.0\n",
      "       -total file sum size :  19945234\n",
      "For the taxi brand called fhv there are 64 files.\n",
      "     Here are some metrics based on their size in bytes:\n",
      "       -min value           :  52060\n",
      "       -max value           :  3339455\n",
      "       -mean value          :  1147257.84\n",
      "       -25 percentile value :  218111.25\n",
      "       -50 percentile value :  646615.0\n",
      "       -75 percentile value :  2257156.5\n",
      "       -90 percentile value :  3020144.5\n",
      "       -total file sum size :  73424502\n",
      "For the taxi brand called fhvhv there are 10 files.\n",
      "     Here are some metrics based on their size in bytes:\n",
      "       -min value           :  535789\n",
      "       -max value           :  2978931\n",
      "       -mean value          :  2007750.7\n",
      "       -25 percentile value :  1121047.25\n",
      "       -50 percentile value :  2542280.0\n",
      "       -75 percentile value :  2687857.25\n",
      "       -90 percentile value :  2804332.8\n",
      "       -total file sum size :  20077507\n"
     ]
    }
   ],
   "source": [
    "import os\n",
    "import glob\n",
    "import pandas as pd\n",
    "import math\n",
    "import numpy as np\n",
    "import datetime as dt\n",
    "\n",
    "list_taxi = [\"yellow\", \"green\", \"fhv\", \"fhvhv\"]\n",
    "#list_taxi = [\"green\"]\n",
    "for taxi_brand in list_taxi :\n",
    "    list_files = {}\n",
    "    list_files[taxi_brand] = []\n",
    "    nb_files = 0\n",
    "    size_b = []\n",
    "    # List the file from the same taxi company brand \n",
    "    for file in glob.glob(\"data/sampled/%s_*.csv\" %(taxi_brand)):\n",
    "        nb_files = nb_files+1\n",
    "        # Save in list the file name\n",
    "        list_files[taxi_brand].append(file)\n",
    "        size_b.append(os.path.getsize(file))\n",
    "\n",
    "    print(\"For the taxi brand called %s there are %i files.\" %(taxi_brand, nb_files))\n",
    "    # Get size basic stat\n",
    "    print(\"     Here are some metrics based on their size in bytes:\")\n",
    "    print(\"       -min value           : \", np.min(size_b))\n",
    "    print(\"       -max value           : \", np.max(size_b))\n",
    "    print(\"       -mean value          : \", np.round(np.mean(size_b),2))\n",
    "    print(\"       -25 percentile value : \", np.quantile(size_b, .25)) \n",
    "    print(\"       -50 percentile value : \", np.quantile(size_b, .50)) \n",
    "    print(\"       -75 percentile value : \", np.quantile(size_b, .75)) \n",
    "    print(\"       -90 percentile value : \", np.quantile(size_b, .90))\n",
    "    print(\"       -total file sum size : \", np.sum(size_b))"
   ]
  },
  {
   "cell_type": "markdown",
   "metadata": {},
   "source": [
    "### 1.5- Files size and metrics: rows"
   ]
  },
  {
   "cell_type": "code",
   "execution_count": 3,
   "metadata": {},
   "outputs": [
    {
     "name": "stdout",
     "output_type": "stream",
     "text": [
      "For the taxi brand called yellow there are still 10 files.\n",
      "     Here are some metrics based on their size in rows count:\n",
      "       -min value           :  477\n",
      "       -max value           :  32301\n",
      "       -mean value          :  24204.51\n",
      "       -25 percentile value :  19990.0\n",
      "       -50 percentile value :  26295.0\n",
      "       -75 percentile value :  29081.0\n",
      "       -90 percentile value :  30203.0\n",
      "       -total row number    :  3170791\n",
      "For the taxi brand called green there are still 10 files.\n",
      "     Here are some metrics based on their size in rows count:\n",
      "       -min value           :  16\n",
      "       -max value           :  3547\n",
      "       -mean value          :  2027.5\n",
      "       -25 percentile value :  1359.75\n",
      "       -50 percentile value :  2073.5\n",
      "       -75 percentile value :  2893.25\n",
      "       -90 percentile value :  3127.0\n",
      "       -total row number    :  154090\n",
      "For the taxi brand called fhv there are still 10 files.\n",
      "     Here are some metrics based on their size in rows count:\n",
      "       -min value           :  960\n",
      "       -max value           :  47673\n",
      "       -mean value          :  21713.62\n",
      "       -25 percentile value :  6031.5\n",
      "       -50 percentile value :  21693.0\n",
      "       -75 percentile value :  33845.75\n",
      "       -90 percentile value :  43709.9\n",
      "       -total row number    :  1389672\n",
      "For the taxi brand called fhvhv there are still 10 files.\n",
      "     Here are some metrics based on their size in rows count:\n",
      "       -min value           :  8626\n",
      "       -max value           :  47704\n",
      "       -mean value          :  32182.9\n",
      "       -25 percentile value :  18023.0\n",
      "       -50 percentile value :  40715.0\n",
      "       -75 percentile value :  43057.25\n",
      "       -90 percentile value :  44923.0\n",
      "       -total row number    :  321829\n"
     ]
    }
   ],
   "source": [
    "list_taxi = [\"yellow\", \"green\", \"fhv\", \"fhvhv\"]\n",
    "#list_taxi = [\"green\"]\n",
    "for taxi_brand in list_taxi :\n",
    "    names={}\n",
    "    size_r=[]\n",
    "    for fn in glob.glob(\"data/sampled/%s_*.csv\" %(taxi_brand)):\n",
    "        with open(fn) as f:\n",
    "            names[fn]=sum(1 for line in f if line.strip())      \n",
    "        # Save in list files sizes in rows\n",
    "        size_r=list(names.values())\n",
    "\n",
    "    print(\"For the taxi brand called %s there are still %i files.\" %(taxi_brand, nb_files))\n",
    "    # Get size basic stat\n",
    "    print(\"     Here are some metrics based on their size in rows count:\")\n",
    "    print(\"       -min value           : \", np.min(size_r))\n",
    "    print(\"       -max value           : \", np.max(size_r))\n",
    "    print(\"       -mean value          : \", np.round(np.mean(size_r),2))\n",
    "    print(\"       -25 percentile value : \", np.quantile(size_r, .25)) \n",
    "    print(\"       -50 percentile value : \", np.quantile(size_r, .50)) \n",
    "    print(\"       -75 percentile value : \", np.quantile(size_r, .75)) \n",
    "    print(\"       -90 percentile value : \", np.quantile(size_r, .90))\n",
    "    print(\"       -total row number    : \", np.sum(size_r))"
   ]
  },
  {
   "cell_type": "markdown",
   "metadata": {},
   "source": [
    "### 1.6- Check for the files shema\n",
    "The schema of the files have changes over time (name, order and numbers of column). The following script look for the kind of change and the date when it occurs."
   ]
  },
  {
   "cell_type": "code",
   "execution_count": 2,
   "metadata": {},
   "outputs": [
    {
     "name": "stdout",
     "output_type": "stream",
     "text": [
      "[YELLOW] For the taxi brand called yellow there are 131 files.\n",
      "    --> In 2009 - 1 : save 1st reference schema\n"
     ]
    },
    {
     "ename": "NameError",
     "evalue": "name 'diff_name_col' is not defined",
     "output_type": "error",
     "traceback": [
      "\u001b[0;31m---------------------------------------------------------------------------\u001b[0m",
      "\u001b[0;31mNameError\u001b[0m                                 Traceback (most recent call last)",
      "\u001b[0;32m<ipython-input-2-e0a98d285d13>\u001b[0m in \u001b[0;36m<module>\u001b[0;34m\u001b[0m\n\u001b[1;32m     59\u001b[0m                 \u001b[0myr_list\u001b[0m\u001b[0;34m[\u001b[0m\u001b[0mtaxi_brand\u001b[0m\u001b[0;34m]\u001b[0m\u001b[0;34m.\u001b[0m\u001b[0mappend\u001b[0m\u001b[0;34m(\u001b[0m\u001b[0myear\u001b[0m\u001b[0;34m)\u001b[0m\u001b[0;34m\u001b[0m\u001b[0;34m\u001b[0m\u001b[0m\n\u001b[1;32m     60\u001b[0m                 \u001b[0mmth_list\u001b[0m\u001b[0;34m[\u001b[0m\u001b[0mtaxi_brand\u001b[0m\u001b[0;34m]\u001b[0m\u001b[0;34m.\u001b[0m\u001b[0mappend\u001b[0m\u001b[0;34m(\u001b[0m\u001b[0mmonth\u001b[0m\u001b[0;34m)\u001b[0m\u001b[0;34m\u001b[0m\u001b[0;34m\u001b[0m\u001b[0m\n\u001b[0;32m---> 61\u001b[0;31m                 \u001b[0mprint\u001b[0m\u001b[0;34m(\u001b[0m\u001b[0;34m\"    --> In %i - %i : %i diff in new schema compared to reference schema on a total of %i columns\"\u001b[0m \u001b[0;34m%\u001b[0m\u001b[0;34m(\u001b[0m\u001b[0myear\u001b[0m\u001b[0;34m,\u001b[0m\u001b[0mmonth\u001b[0m\u001b[0;34m,\u001b[0m\u001b[0mlen\u001b[0m\u001b[0;34m(\u001b[0m\u001b[0mdiff_name_col\u001b[0m\u001b[0;34m)\u001b[0m\u001b[0;34m,\u001b[0m\u001b[0mlen\u001b[0m\u001b[0;34m(\u001b[0m\u001b[0mhead_lower_clean\u001b[0m\u001b[0;34m)\u001b[0m\u001b[0;34m)\u001b[0m\u001b[0;34m)\u001b[0m\u001b[0;34m\u001b[0m\u001b[0;34m\u001b[0m\u001b[0m\n\u001b[0m\u001b[1;32m     62\u001b[0m                 \u001b[0;31m#print(\"     In %i - %i :\" %(int(list_files[taxi_brand][yr][len(taxi_brand)+23:len(taxi_brand)+27]),int(list_files[taxi_brand][yr][len(taxi_brand)+28:len(taxi_brand)+30])))\u001b[0m\u001b[0;34m\u001b[0m\u001b[0;34m\u001b[0m\u001b[0;34m\u001b[0m\u001b[0m\n\u001b[1;32m     63\u001b[0m                 \u001b[0mprint\u001b[0m\u001b[0;34m(\u001b[0m\u001b[0;34m\"               New col. not in ref:\"\u001b[0m\u001b[0;34m,\u001b[0m\u001b[0mdiff_name_col_add\u001b[0m\u001b[0;34m)\u001b[0m\u001b[0;34m\u001b[0m\u001b[0;34m\u001b[0m\u001b[0m\n",
      "\u001b[0;31mNameError\u001b[0m: name 'diff_name_col' is not defined"
     ]
    }
   ],
   "source": [
    "# Get the list of file\n",
    "list_taxi = [\"yellow\", \"green\", \"fhv\", \"fhvhv\"]\n",
    "#list_taxi = [\"green\"]\n",
    "for taxi_brand in list_taxi :\n",
    "    list_files = {}\n",
    "    yr_list = {}\n",
    "    mth_list = {}\n",
    "    list_files[taxi_brand] = []\n",
    "    yr_list[taxi_brand] = []\n",
    "    mth_list[taxi_brand] = []\n",
    "    nb_files = 0\n",
    "    size = []\n",
    "    count = 0\n",
    "    # List the file from the same taxi company brand \n",
    "    for file in glob.glob(\"data/sampled/%s_*.csv\" %(taxi_brand)):\n",
    "        nb_files = nb_files+1\n",
    "        # Save in list the files name\n",
    "        list_files[taxi_brand].append(file)\n",
    "    # Order by dayte the files list\n",
    "    list_files[taxi_brand].sort()\n",
    "    print(\"[%s] For the taxi brand called %s there are %i files.\" %(taxi_brand.upper(),taxi_brand , nb_files))\n",
    "    for yr in range(0,nb_files):\n",
    "        # Read file by file\n",
    "        df = pd.read_csv(list_files[taxi_brand][yr],error_bad_lines=False, sep=',')\n",
    "        # Extract the head of the file\n",
    "        head = list(df)\n",
    "        head_lower = [ x.lower() for x in head ]\n",
    "        # Remove the blank space in the col name\n",
    "        head_lower_clean = [x.strip(' ') for x in head_lower]\n",
    "        #print(yr,head_lower)\n",
    "        # counter for check file\n",
    "        count = count + 1\n",
    "        # Save first file schema as reference\n",
    "        if yr == 0 :\n",
    "            nb_col_ref = len(head)\n",
    "            col_name_ref = head_lower_clean\n",
    "            time_period = int(list_files[taxi_brand][yr][len(taxi_brand)+23:len(taxi_brand)+27])\n",
    "            year = int(list_files[taxi_brand][yr][len(taxi_brand)+23:len(taxi_brand)+27])\n",
    "            month = int(list_files[taxi_brand][yr][len(taxi_brand)+28:len(taxi_brand)+30])\n",
    "            yr_list[taxi_brand].append(year)\n",
    "            mth_list[taxi_brand].append(month)\n",
    "            print(\"    --> In %i - %i : save 1st reference schema\" %(year,month))\n",
    "            # print(col_name_ref)\n",
    "        else :\n",
    "            # Compare reference schema with the shema of all the others files\n",
    "            if head_lower_clean != col_name_ref :\n",
    "                # Col in new schema but not in reference schema\n",
    "                diff_name_col_add = [ x for x in head_lower_clean if x not in set(col_name_ref) ]\n",
    "                # Col in old schema but not in new schema\n",
    "                diff_name_col_rm = [ x for x in col_name_ref if x not in set (head_lower_clean) ]\n",
    "                pos_col_change = []\n",
    "                index_ref = []\n",
    "                if (len(diff_name_col_add)+len(diff_name_col_rm) == 0) and (len(head_lower_clean) == nb_col_ref) :\n",
    "                    for i in range(0,len(diff_name_col)) :\n",
    "                        index_ref.append(col_name_ref.index(col_name_ref[i]))\n",
    "                        pos_col_change.append(head_lower_clean.index(col_name_ref[i]))\n",
    "                year = int(list_files[taxi_brand][yr][len(taxi_brand)+23:len(taxi_brand)+27])\n",
    "                month = int(list_files[taxi_brand][yr][len(taxi_brand)+28:len(taxi_brand)+30])\n",
    "                yr_list[taxi_brand].append(year)\n",
    "                mth_list[taxi_brand].append(month)\n",
    "                print(\"    --> In %i - %i : %i diff in new schema compared to reference schema on a total of %i columns\" %(year,month,len(diff_name_col),len(head_lower_clean)))\n",
    "                #print(\"     In %i - %i :\" %(int(list_files[taxi_brand][yr][len(taxi_brand)+23:len(taxi_brand)+27]),int(list_files[taxi_brand][yr][len(taxi_brand)+28:len(taxi_brand)+30])))\n",
    "                print(\"               New col. not in ref:\",diff_name_col_add)\n",
    "                print(\"               Ref col. not in new\",diff_name_col_rm)\n",
    "                print(\"               Order have change:\", pos_col_change)\n",
    "                # Check if the order of the column have changed\n",
    "                print(head_lower_clean)\n",
    "                print(col_name_ref)\n",
    "                #print(diff_name_col)\n",
    "                ## If the numbers of column change\n",
    "                if len(head_lower_clean) != nb_col_ref :\n",
    "                    # If the numbers of column is different from reference yr check what is the new column name\n",
    "                    diff_nb_col = len(head_lower_clean) - nb_col_ref\n",
    "                    # find the new/remove col name())\n",
    "                    diff_name_col = [ x for x in head_lower_clean if x not in set(col_name_ref) ]\n",
    "                    # Check if the order of the column have changed\n",
    "                    #print(diff_name_col)\n",
    "                    pos_col_change = []\n",
    "                    for i in range(0,len(diff_name_col)) :\n",
    "                        pos_col_change.append(head_lower_clean.index(diff_name_col[i]))\n",
    "                    #if diff_nb_col > 0 :\n",
    "                        #print(\"             %i/%i col add\" %(diff_nb_col,len(diff_name_col)))\n",
    "                    #elif diff_nb_col < 0 :\n",
    "                        #print(\"             %i/%i col remove\" %(abs(diff_nb_col),len(diff_name_col)))\n",
    "                    if abs(diff_nb_col) != len(diff_name_col) :\n",
    "                        nb_name_diff = len(diff_name_col) - abs(diff_nb_col) \n",
    "                        #print(\"             %i/%i name change\" %(nb_name_diff,len(diff_name_col)))\n",
    "                elif (sum(len(i) for i in head_lower_clean)) != (sum(len(i) for i in col_name_ref)) :\n",
    "                    nb_name_change = len(set(col_name_ref) - set(head_lower_clean))\n",
    "                    #print(\"             %i/%i column name have changed:\" %(nb_name_change, len(diff_name_col)))\n",
    "                    new_name=set(col_name_ref) - set(head_lower_clean)\n",
    "                    old_name=set(head_lower_clean) - set(col_name_ref)\n",
    "                    #print(\"                 New name are:\",new_name)\n",
    "                    #print(old_name, col_name_ref)\n",
    "                col_name_ref = head_lower_clean\n",
    "                nb_col_ref = len(head_lower_clean)\n",
    "                count = count - 1\n",
    "        if yr == nb_files-1 :\n",
    "            year = int(list_files[taxi_brand][yr][len(taxi_brand)+23:len(taxi_brand)+27])\n",
    "            month = int(list_files[taxi_brand][yr][len(taxi_brand)+28:len(taxi_brand)+30])\n",
    "            yr_list[taxi_brand].append(year)\n",
    "            mth_list[taxi_brand].append(month)\n",
    "    if count == nb_files:\n",
    "        print(\"     There is no diff between files\")\n",
    "   \n",
    "    for i in range(0,len(yr_list[taxi_brand])-1) :\n",
    "        date_in = str(yr_list[taxi_brand][i])+'-'+str(mth_list[taxi_brand][i])\n",
    "        if mth_list[taxi_brand][i+1] == 1 :\n",
    "            date_out =  str(yr_list[taxi_brand][i+1]-1)+'-12'\n",
    "        else :\n",
    "            date_out =  str(yr_list[taxi_brand][i+1])+'-'+str(mth_list[taxi_brand][i+1])\n",
    "        print(\"Records from %s to %s use the same schema\" %(date_in,date_out))\n",
    "    print(yr_list[taxi_brand])\n",
    "    print(mth_list[taxi_brand])\n",
    "        #df['lpep_pickup_datetime'] = pd.to_datetime(df['lpep_pickup_datetime'])\n",
    "        "
   ]
  },
  {
   "cell_type": "markdown",
   "metadata": {},
   "source": [
    "### 2- Conclustion "
   ]
  },
  {
   "cell_type": "markdown",
   "metadata": {},
   "source": [
    "In total, there are 281 taxi files (76 for green, 131 for yellow, 64 for fhv and 10 for fhvhv). Each files represent one month of records. The record period depends on the taxi brand:\n",
    "\n",
    "- Yellow taxi: from January 2009 till June 2020, 7 files of records are missing.\n",
    "- Green taxi : from August 2013 till June 2020, 7 files of records are missing\n",
    "- FHVHV taxi : from February 2019 till June 2020, 7 files of records are missing\n",
    "\n",
    "        The missing periods are from July 2019 till December 2019 and March 2020.\n",
    "\n",
    "- FHV taxi   : from January 2015 till June 2020, 2 files of records are missing\n",
    "\n",
    "        The missing periods are December 2019 and February 2020.\n",
    "\n",
    "All the files represents a size of around 0.6Go. \n"
   ]
  },
  {
   "cell_type": "code",
   "execution_count": 110,
   "metadata": {},
   "outputs": [
    {
     "data": {
      "text/plain": [
       "17"
      ]
     },
     "execution_count": 110,
     "metadata": {},
     "output_type": "execute_result"
    }
   ],
   "source": [
    "((2020-2019)*12)+6-1\n"
   ]
  },
  {
   "cell_type": "code",
   "execution_count": null,
   "metadata": {},
   "outputs": [],
   "source": []
  }
 ],
 "metadata": {
  "kernelspec": {
   "display_name": "Python 3",
   "language": "python",
   "name": "python3"
  },
  "language_info": {
   "codemirror_mode": {
    "name": "ipython",
    "version": 3
   },
   "file_extension": ".py",
   "mimetype": "text/x-python",
   "name": "python",
   "nbconvert_exporter": "python",
   "pygments_lexer": "ipython3",
   "version": "3.7.4"
  }
 },
 "nbformat": 4,
 "nbformat_minor": 2
}
