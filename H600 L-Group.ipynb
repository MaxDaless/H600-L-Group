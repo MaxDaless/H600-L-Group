{
 "cells": [
  {
   "cell_type": "markdown",
   "metadata": {},
   "source": [
    "# Big Data Project H600 / L-Group\n",
    "\n",
    "## Real world Data Exploration, Integration, Cleasning, Transformation and Analysis\n",
    "\n",
    "Data:\n",
    "The New York City Taxi and Limousine Commission (or TLC for short) has been publishing\n",
    "records about taxi trips in New York since 2009. \n",
    "\n",
    "The TLC trip dataset actually consists of 4 sub-datasets:\n",
    "\n",
    "    1.Yellow taxi records are records that record trip information of New York's famous yellow taxi cars\n",
    "\n",
    "    2.Green taxi records are records that record trip information by so-called 'boro' taxis, a newer service introduced in August of 2013 to improve taxi service and availability in the boroughs. \n",
    "\n",
    "    3.FHV records (short for 'For Hire Vehicles') record information from services that offered for-hire vehicles (such as Uber, Lyft, Via, and Juno), but also luxury limousine bases.\n",
    "\n",
    "    4.High volume FHV (FHVHV for short) are FHV records offered by services that make more than 10,000 trips per day"
   ]
  },
  {
   "cell_type": "code",
   "execution_count": 6,
   "metadata": {},
   "outputs": [],
   "source": [
    "import os \n",
    "os.environ['PYSPARK_SUBMIT_ARGS'] =\"--conf spark.driver.memory=3g  pyspark-shell\"\n",
    "from pyspark.sql import SparkSession\n",
    "try: \n",
    "    spark\n",
    "    print(\"Spark application already started. Terminating existing application and starting new one\")\n",
    "    spark.stop()\n",
    "except: \n",
    "    pass\n",
    "\n",
    "# Create a new spark session (note, the * indicates to use all available CPU cores)\n",
    "spark = SparkSession \\\n",
    "    .builder \\\n",
    "    .master(\"local[*]\") \\\n",
    "    .appName(\"H600 L-Group\") \\\n",
    "    .getOrCreate()\n",
    "    \n",
    "#When dealing with RDDs, we work the sparkContext object. See https://spark.apache.org/docs/latest/api/python/pyspark.html#pyspark.SparkContext\n",
    "sc=spark.sparkContext\n",
    "\n",
    "#in local mode, you will be able to access the Spark GUI at http://localhost:4040\n",
    "\n"
   ]
  },
  {
   "cell_type": "markdown",
   "metadata": {},
   "source": [
    "### All files in the pipe"
   ]
  },
  {
   "cell_type": "code",
   "execution_count": 9,
   "metadata": {},
   "outputs": [
    {
     "name": "stdout",
     "output_type": "stream",
     "text": [
      "fhvhv_tripdata_2019-02.csv  green_tripdata_2019-03.csv\r\n",
      "fhvhv_tripdata_2019-03.csv  green_tripdata_2019-04.csv\r\n",
      "fhvhv_tripdata_2019-04.csv  green_tripdata_2019-05.csv\r\n",
      "fhvhv_tripdata_2019-05.csv  green_tripdata_2019-06.csv\r\n",
      "fhvhv_tripdata_2019-06.csv  green_tripdata_2020-01.csv\r\n",
      "fhvhv_tripdata_2020-01.csv  green_tripdata_2020-01.txt\r\n",
      "fhvhv_tripdata_2020-03.csv  green_tripdata_2020-02.csv\r\n",
      "fhvhv_tripdata_2020-04.csv  green_tripdata_2020-04.csv\r\n",
      "fhvhv_tripdata_2020-05.csv  green_tripdata_2020-05.csv\r\n",
      "fhvhv_tripdata_2020-06.csv  green_tripdata_2020-06.csv\r\n",
      "fhv_tripdata_2015-01.csv    yellow_tripdata_2009-01.csv\r\n",
      "fhv_tripdata_2015-02.csv    yellow_tripdata_2009-02.csv\r\n",
      "fhv_tripdata_2015-03.csv    yellow_tripdata_2009-03.csv\r\n",
      "fhv_tripdata_2015-04.csv    yellow_tripdata_2009-04.csv\r\n",
      "fhv_tripdata_2015-05.csv    yellow_tripdata_2009-05.csv\r\n",
      "fhv_tripdata_2015-06.csv    yellow_tripdata_2009-06.csv\r\n",
      "fhv_tripdata_2015-07.csv    yellow_tripdata_2009-07.csv\r\n",
      "fhv_tripdata_2015-08.csv    yellow_tripdata_2009-08.csv\r\n",
      "fhv_tripdata_2015-09.csv    yellow_tripdata_2009-09.csv\r\n",
      "fhv_tripdata_2015-10.csv    yellow_tripdata_2009-10.csv\r\n",
      "fhv_tripdata_2015-11.csv    yellow_tripdata_2009-11.csv\r\n",
      "fhv_tripdata_2015-12.csv    yellow_tripdata_2009-12.csv\r\n",
      "fhv_tripdata_2016-01.csv    yellow_tripdata_2010-01.csv\r\n",
      "fhv_tripdata_2016-02.csv    yellow_tripdata_2010-02.csv\r\n",
      "fhv_tripdata_2016-03.csv    yellow_tripdata_2010-03.csv\r\n",
      "fhv_tripdata_2016-04.csv    yellow_tripdata_2010-04.csv\r\n",
      "fhv_tripdata_2016-05.csv    yellow_tripdata_2010-05.csv\r\n",
      "fhv_tripdata_2016-06.csv    yellow_tripdata_2010-06.csv\r\n",
      "fhv_tripdata_2016-07.csv    yellow_tripdata_2010-07.csv\r\n",
      "fhv_tripdata_2016-08.csv    yellow_tripdata_2010-08.csv\r\n",
      "fhv_tripdata_2016-09.csv    yellow_tripdata_2010-09.csv\r\n",
      "fhv_tripdata_2016-10.csv    yellow_tripdata_2010-10.csv\r\n",
      "fhv_tripdata_2016-11.csv    yellow_tripdata_2010-11.csv\r\n",
      "fhv_tripdata_2016-12.csv    yellow_tripdata_2010-12.csv\r\n",
      "fhv_tripdata_2017-01.csv    yellow_tripdata_2011-01.csv\r\n",
      "fhv_tripdata_2017-02.csv    yellow_tripdata_2011-02.csv\r\n",
      "fhv_tripdata_2017-03.csv    yellow_tripdata_2011-03.csv\r\n",
      "fhv_tripdata_2017-04.csv    yellow_tripdata_2011-04.csv\r\n",
      "fhv_tripdata_2017-05.csv    yellow_tripdata_2011-05.csv\r\n",
      "fhv_tripdata_2017-06.csv    yellow_tripdata_2011-06.csv\r\n",
      "fhv_tripdata_2017-07.csv    yellow_tripdata_2011-07.csv\r\n",
      "fhv_tripdata_2017-08.csv    yellow_tripdata_2011-08.csv\r\n",
      "fhv_tripdata_2017-09.csv    yellow_tripdata_2011-09.csv\r\n",
      "fhv_tripdata_2017-10.csv    yellow_tripdata_2011-10.csv\r\n",
      "fhv_tripdata_2017-11.csv    yellow_tripdata_2011-11.csv\r\n",
      "fhv_tripdata_2017-12.csv    yellow_tripdata_2011-12.csv\r\n",
      "fhv_tripdata_2018-01.csv    yellow_tripdata_2012-01.csv\r\n",
      "fhv_tripdata_2018-02.csv    yellow_tripdata_2012-02.csv\r\n",
      "fhv_tripdata_2018-03.csv    yellow_tripdata_2012-03.csv\r\n",
      "fhv_tripdata_2018-04.csv    yellow_tripdata_2012-04.csv\r\n",
      "fhv_tripdata_2018-05.csv    yellow_tripdata_2012-05.csv\r\n",
      "fhv_tripdata_2018-06.csv    yellow_tripdata_2012-06.csv\r\n",
      "fhv_tripdata_2018-07.csv    yellow_tripdata_2012-07.csv\r\n",
      "fhv_tripdata_2018-08.csv    yellow_tripdata_2012-08.csv\r\n",
      "fhv_tripdata_2018-09.csv    yellow_tripdata_2012-09.csv\r\n",
      "fhv_tripdata_2018-10.csv    yellow_tripdata_2012-10.csv\r\n",
      "fhv_tripdata_2018-11.csv    yellow_tripdata_2012-11.csv\r\n",
      "fhv_tripdata_2018-12.csv    yellow_tripdata_2012-12.csv\r\n",
      "fhv_tripdata_2019-01.csv    yellow_tripdata_2013-01.csv\r\n",
      "fhv_tripdata_2019-02.csv    yellow_tripdata_2013-02.csv\r\n",
      "fhv_tripdata_2019-03.csv    yellow_tripdata_2013-03.csv\r\n",
      "fhv_tripdata_2019-04.csv    yellow_tripdata_2013-04.csv\r\n",
      "fhv_tripdata_2019-05.csv    yellow_tripdata_2013-05.csv\r\n",
      "fhv_tripdata_2019-06.csv    yellow_tripdata_2013-06.csv\r\n",
      "fhv_tripdata_2019-07.csv    yellow_tripdata_2013-07.csv\r\n",
      "fhv_tripdata_2019-08.csv    yellow_tripdata_2013-08.csv\r\n",
      "fhv_tripdata_2019-09.csv    yellow_tripdata_2013-09.csv\r\n",
      "fhv_tripdata_2019-10.csv    yellow_tripdata_2013-10.csv\r\n",
      "fhv_tripdata_2019-11.csv    yellow_tripdata_2013-11.csv\r\n",
      "fhv_tripdata_2020-01.csv    yellow_tripdata_2013-12.csv\r\n",
      "fhv_tripdata_2020-03.csv    yellow_tripdata_2014-01.csv\r\n",
      "fhv_tripdata_2020-04.csv    yellow_tripdata_2014-02.csv\r\n",
      "fhv_tripdata_2020-05.csv    yellow_tripdata_2014-03.csv\r\n",
      "fhv_tripdata_2020-06.csv    yellow_tripdata_2014-04.csv\r\n",
      "green_tripdata_2013-08.csv  yellow_tripdata_2014-05.csv\r\n",
      "green_tripdata_2013-09.csv  yellow_tripdata_2014-06.csv\r\n",
      "green_tripdata_2013-10.csv  yellow_tripdata_2014-07.csv\r\n",
      "green_tripdata_2013-11.csv  yellow_tripdata_2014-08.csv\r\n",
      "green_tripdata_2013-12.csv  yellow_tripdata_2014-09.csv\r\n",
      "green_tripdata_2014-01.csv  yellow_tripdata_2014-10.csv\r\n",
      "green_tripdata_2014-02.csv  yellow_tripdata_2014-11.csv\r\n",
      "green_tripdata_2014-03.csv  yellow_tripdata_2014-12.csv\r\n",
      "green_tripdata_2014-04.csv  yellow_tripdata_2015-01.csv\r\n",
      "green_tripdata_2014-05.csv  yellow_tripdata_2015-02.csv\r\n",
      "green_tripdata_2014-06.csv  yellow_tripdata_2015-03.csv\r\n",
      "green_tripdata_2014-07.csv  yellow_tripdata_2015-04.csv\r\n",
      "green_tripdata_2014-08.csv  yellow_tripdata_2015-05.csv\r\n",
      "green_tripdata_2014-09.csv  yellow_tripdata_2015-06.csv\r\n",
      "green_tripdata_2014-10.csv  yellow_tripdata_2015-07.csv\r\n",
      "green_tripdata_2014-11.csv  yellow_tripdata_2015-08.csv\r\n",
      "green_tripdata_2014-12.csv  yellow_tripdata_2015-09.csv\r\n",
      "green_tripdata_2015-01.csv  yellow_tripdata_2015-10.csv\r\n",
      "green_tripdata_2015-02.csv  yellow_tripdata_2015-11.csv\r\n",
      "green_tripdata_2015-03.csv  yellow_tripdata_2015-12.csv\r\n",
      "green_tripdata_2015-04.csv  yellow_tripdata_2016-01.csv\r\n",
      "green_tripdata_2015-05.csv  yellow_tripdata_2016-02.csv\r\n",
      "green_tripdata_2015-06.csv  yellow_tripdata_2016-03.csv\r\n",
      "green_tripdata_2015-07.csv  yellow_tripdata_2016-04.csv\r\n",
      "green_tripdata_2015-08.csv  yellow_tripdata_2016-05.csv\r\n",
      "green_tripdata_2015-09.csv  yellow_tripdata_2016-06.csv\r\n",
      "green_tripdata_2015-10.csv  yellow_tripdata_2016-07.csv\r\n",
      "green_tripdata_2015-11.csv  yellow_tripdata_2016-08.csv\r\n",
      "green_tripdata_2015-12.csv  yellow_tripdata_2016-09.csv\r\n",
      "green_tripdata_2016-01.csv  yellow_tripdata_2016-10.csv\r\n",
      "green_tripdata_2016-02.csv  yellow_tripdata_2016-11.csv\r\n",
      "green_tripdata_2016-03.csv  yellow_tripdata_2016-12.csv\r\n",
      "green_tripdata_2016-04.csv  yellow_tripdata_2017-01.csv\r\n",
      "green_tripdata_2016-05.csv  yellow_tripdata_2017-02.csv\r\n",
      "green_tripdata_2016-06.csv  yellow_tripdata_2017-03.csv\r\n",
      "green_tripdata_2016-07.csv  yellow_tripdata_2017-04.csv\r\n",
      "green_tripdata_2016-08.csv  yellow_tripdata_2017-05.csv\r\n",
      "green_tripdata_2016-09.csv  yellow_tripdata_2017-06.csv\r\n",
      "green_tripdata_2016-10.csv  yellow_tripdata_2017-07.csv\r\n",
      "green_tripdata_2016-11.csv  yellow_tripdata_2017-08.csv\r\n",
      "green_tripdata_2016-12.csv  yellow_tripdata_2017-09.csv\r\n",
      "green_tripdata_2017-01.csv  yellow_tripdata_2017-10.csv\r\n",
      "green_tripdata_2017-02.csv  yellow_tripdata_2017-11.csv\r\n",
      "green_tripdata_2017-03.csv  yellow_tripdata_2017-12.csv\r\n",
      "green_tripdata_2017-04.csv  yellow_tripdata_2018-01.csv\r\n",
      "green_tripdata_2017-05.csv  yellow_tripdata_2018-02.csv\r\n",
      "green_tripdata_2017-06.csv  yellow_tripdata_2018-03.csv\r\n",
      "green_tripdata_2017-07.csv  yellow_tripdata_2018-04.csv\r\n",
      "green_tripdata_2017-08.csv  yellow_tripdata_2018-05.csv\r\n",
      "green_tripdata_2017-09.csv  yellow_tripdata_2018-06.csv\r\n",
      "green_tripdata_2017-10.csv  yellow_tripdata_2018-07.csv\r\n",
      "green_tripdata_2017-11.csv  yellow_tripdata_2018-08.csv\r\n",
      "green_tripdata_2017-12.csv  yellow_tripdata_2018-09.csv\r\n",
      "green_tripdata_2018-01.csv  yellow_tripdata_2018-10.csv\r\n",
      "green_tripdata_2018-02.csv  yellow_tripdata_2018-11.csv\r\n",
      "green_tripdata_2018-03.csv  yellow_tripdata_2018-12.csv\r\n",
      "green_tripdata_2018-04.csv  yellow_tripdata_2019-01.csv\r\n",
      "green_tripdata_2018-05.csv  yellow_tripdata_2019-02.csv\r\n",
      "green_tripdata_2018-06.csv  yellow_tripdata_2019-03.csv\r\n",
      "green_tripdata_2018-07.csv  yellow_tripdata_2019-04.csv\r\n",
      "green_tripdata_2018-08.csv  yellow_tripdata_2019-05.csv\r\n",
      "green_tripdata_2018-09.csv  yellow_tripdata_2019-06.csv\r\n",
      "green_tripdata_2018-10.csv  yellow_tripdata_2020-01.csv\r\n",
      "green_tripdata_2018-11.csv  yellow_tripdata_2020-02.csv\r\n",
      "green_tripdata_2018-12.csv  yellow_tripdata_2020-04.csv\r\n",
      "green_tripdata_2019-01.csv  yellow_tripdata_2020-05.csv\r\n",
      "green_tripdata_2019-02.csv  yellow_tripdata_2020-06.csv\r\n"
     ]
    }
   ],
   "source": [
    "# Let's list the files in data\n",
    "!ls /home/bigdata/Desktop/TaxiNYC/Data/"
   ]
  },
  {
   "cell_type": "markdown",
   "metadata": {},
   "source": [
    "### Loading 1 file"
   ]
  },
  {
   "cell_type": "code",
   "execution_count": 10,
   "metadata": {},
   "outputs": [],
   "source": [
    "# Load the contents of a file into an RDD. Note - when run on the cluster this load from HDFS (inside /user/$USER/)\n",
    "# if you really want to load from HDFS, you can also put the full HDFS url, e.g.\n",
    "# hdfs://public00:8020/user/<your_user_id_here>/data/books/pg20417.txt\n",
    "fileName = 'Data/green_tripdata_2020-01.csv'\n",
    "TaxiRDD = sc.textFile(fileName)"
   ]
  },
  {
   "cell_type": "code",
   "execution_count": 11,
   "metadata": {},
   "outputs": [
    {
     "data": {
      "text/plain": [
       "['VendorID,lpep_pickup_datetime,lpep_dropoff_datetime,store_and_fwd_flag,RatecodeID,PULocationID,DOLocationID,passenger_count,trip_distance,fare_amount,extra,mta_tax,tip_amount,tolls_amount,ehail_fee,improvement_surcharge,total_amount,payment_type,trip_type,congestion_surcharge',\n",
       " ',2020-01-27 06:40:00,2020-01-27 07:25:00,,,159,61,,19.84,40.95,2.75,0,0,6.12,,0.3,50.12,,,',\n",
       " '2,2020-01-18 01:01:42,2020-01-18 01:04:57,N,1,7,146,1,.56,4.5,0.5,0.5,1.45,0,,0.3,7.25,1,1,0',\n",
       " '2,2020-01-15 13:52:01,2020-01-15 14:13:09,N,1,134,77,1,5.87,22,0,0.5,0,0,,0.3,22.8,1,1,0',\n",
       " '2,2020-01-30 23:49:37,2020-01-31 00:12:17,N,1,42,143,1,5.40,20,0.5,0.5,4.81,0,,0.3,28.86,1,1,2.75']"
      ]
     },
     "execution_count": 11,
     "metadata": {},
     "output_type": "execute_result"
    }
   ],
   "source": [
    "TaxiRDD.take(5)"
   ]
  },
  {
   "cell_type": "code",
   "execution_count": 13,
   "metadata": {},
   "outputs": [
    {
     "data": {
      "text/plain": [
       "[['VendorID,lpep_pickup_datetime,lpep_dropoff_datetime,store_and_fwd_flag,RatecodeID,PULocationID,DOLocationID,passenger_count,trip_distance,fare_amount,extra,mta_tax,tip_amount,tolls_amount,ehail_fee,improvement_surcharge,total_amount,payment_type,trip_type,congestion_surcharge'],\n",
       " [',2020-01-27',\n",
       "  '06:40:00,2020-01-27',\n",
       "  '07:25:00,,,159,61,,19.84,40.95,2.75,0,0,6.12,,0.3,50.12,,,'],\n",
       " ['2,2020-01-18',\n",
       "  '01:01:42,2020-01-18',\n",
       "  '01:04:57,N,1,7,146,1,.56,4.5,0.5,0.5,1.45,0,,0.3,7.25,1,1,0']]"
      ]
     },
     "execution_count": 13,
     "metadata": {},
     "output_type": "execute_result"
    }
   ],
   "source": [
    "tupleRDD = TaxiRDD.map(lambda line: line.split())\n",
    "tupleRDD.take(3)"
   ]
  },
  {
   "cell_type": "code",
   "execution_count": 14,
   "metadata": {},
   "outputs": [
    {
     "data": {
      "text/plain": [
       "['VendorID,lpep_pickup_datetime,lpep_dropoff_datetime,store_and_fwd_flag,RatecodeID,PULocationID,DOLocationID,passenger_count,trip_distance,fare_amount,extra,mta_tax,tip_amount,tolls_amount,ehail_fee,improvement_surcharge,total_amount,payment_type,trip_type,congestion_surcharge',\n",
       " ',2020-01-27',\n",
       " '06:40:00,2020-01-27',\n",
       " '07:25:00,,,159,61,,19.84,40.95,2.75,0,0,6.12,,0.3,50.12,,,',\n",
       " '2,2020-01-18']"
      ]
     },
     "execution_count": 14,
     "metadata": {},
     "output_type": "execute_result"
    }
   ],
   "source": [
    "wordsRDD = TaxiRDD.flatMap(lambda line: line.split())\n",
    "wordsRDD.take(5)"
   ]
  },
  {
   "cell_type": "code",
   "execution_count": 15,
   "metadata": {},
   "outputs": [
    {
     "data": {
      "text/plain": [
       "2686"
      ]
     },
     "execution_count": 15,
     "metadata": {},
     "output_type": "execute_result"
    }
   ],
   "source": [
    "wordsRDD.count()"
   ]
  },
  {
   "cell_type": "code",
   "execution_count": 16,
   "metadata": {},
   "outputs": [
    {
     "data": {
      "text/plain": [
       "2686"
      ]
     },
     "execution_count": 16,
     "metadata": {},
     "output_type": "execute_result"
    }
   ],
   "source": [
    "wordsRDD.map(lambda x: 1).reduce(lambda a,b: a+b)"
   ]
  },
  {
   "cell_type": "markdown",
   "metadata": {},
   "source": [
    "### Do a word count on all files"
   ]
  },
  {
   "cell_type": "code",
   "execution_count": 17,
   "metadata": {},
   "outputs": [],
   "source": [
    "allTaxiRDD = sc.textFile('Data/*.csv')"
   ]
  },
  {
   "cell_type": "code",
   "execution_count": 19,
   "metadata": {},
   "outputs": [
    {
     "data": {
      "text/plain": [
       "5036382"
      ]
     },
     "execution_count": 19,
     "metadata": {},
     "output_type": "execute_result"
    }
   ],
   "source": [
    "allTaxiRDD.count()"
   ]
  },
  {
   "cell_type": "code",
   "execution_count": 20,
   "metadata": {},
   "outputs": [
    {
     "data": {
      "text/plain": [
       "5036382"
      ]
     },
     "execution_count": 20,
     "metadata": {},
     "output_type": "execute_result"
    }
   ],
   "source": [
    "allTaxiRDD.count()"
   ]
  },
  {
   "cell_type": "markdown",
   "metadata": {},
   "source": [
    "### Yellow taxi records"
   ]
  },
  {
   "cell_type": "code",
   "execution_count": null,
   "metadata": {},
   "outputs": [],
   "source": []
  }
 ],
 "metadata": {
  "kernelspec": {
   "display_name": "Python 3",
   "language": "python",
   "name": "python3"
  },
  "language_info": {
   "codemirror_mode": {
    "name": "ipython",
    "version": 3
   },
   "file_extension": ".py",
   "mimetype": "text/x-python",
   "name": "python",
   "nbconvert_exporter": "python",
   "pygments_lexer": "ipython3",
   "version": "3.7.4"
  }
 },
 "nbformat": 4,
 "nbformat_minor": 2
}
